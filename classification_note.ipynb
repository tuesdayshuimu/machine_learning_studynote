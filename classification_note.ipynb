{
 "cells": [
  {
   "cell_type": "markdown",
   "id": "1b658cd9-6a5d-4c99-bdb4-3bb660900214",
   "metadata": {},
   "source": [
    "# Classification\n",
    "\n",
    "### Use cases\n",
    "Email filtering, \n",
    "speech recognition,\n",
    "handwriting recognition\n",
    "biometric identification\n",
    "document classification\n",
    "\n",
    "### Types\n",
    "binary classification\n",
    "multiple class classification\n",
    "\n",
    "### Algorithms\n",
    "Decision trees (ID3, C4.5, C5.0)\n",
    "Naive bayes\n",
    "Linear discriminant analysis\n",
    "k-Nearest neighbor\n",
    "Logistic regression\n",
    "Neural network\n",
    "Support vector machines (SVM)\n",
    "\n",
    "### KNN\n",
    "KNN is, \n",
    "- a method for classifying cases based on their similarity to other cases.\n",
    "- cases that are near each other are said to be \"neighbors\"\n",
    "- based on similar case with same class labels are near each other\n",
    "\n",
    "Algorithm is (steps):\n",
    "1. pick a value for K\n",
    "2. calculate the distance of unknown case from all cases\n",
    "3. select the k-observations in the training data that are \"nearest\" to the unknown data point\n",
    "4. predict the response of the unknown data point using the most popular response value from the k-nearest neighbors\n",
    "\n",
    "Evaluation Metrics\n",
    "- Jaccard index (simpliest), J(y,y_hat) = |y ^ y_hat| / |y v y_hat|, 1 is the best, 0 is the worst, confusion matrix,\n",
    "- F1-score\n",
    "  - precision, tp/(tp+fp)\n",
    "  - recall, tp/(tp+fn)\n",
    "  - score equation, 2*(prc * rec)/(prc+rec)\n",
    "  - 1 is the best, 0 is the best\n",
    "  - can be used in multiclass classifiers as well\n",
    "- Log loss (logarithmic loss)\n",
    "  - equation, -(1/n)*sum((y*log(y_hat)+(1-y)*log(1-y_hat)))\n",
    "  - 0 is the best, 1 is the worst"
   ]
  }
 ],
 "metadata": {
  "kernelspec": {
   "display_name": "Python 3 (ipykernel)",
   "language": "python",
   "name": "python3"
  },
  "language_info": {
   "codemirror_mode": {
    "name": "ipython",
    "version": 3
   },
   "file_extension": ".py",
   "mimetype": "text/x-python",
   "name": "python",
   "nbconvert_exporter": "python",
   "pygments_lexer": "ipython3",
   "version": "3.12.3"
  }
 },
 "nbformat": 4,
 "nbformat_minor": 5
}
